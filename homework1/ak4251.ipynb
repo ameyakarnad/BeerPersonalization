{
 "cells": [
  {
   "cell_type": "markdown",
   "metadata": {
    "scrolled": true
   },
   "source": [
    "**Ameya Karnad <br>ak4251 <br>Assignement 1 - Part 2 <br>Personalisation - Theory and Application **"
   ]
  },
  {
   "cell_type": "markdown",
   "metadata": {},
   "source": [
    "<br>\n",
    "**1- Setup**"
   ]
  },
  {
   "cell_type": "code",
   "execution_count": null,
   "metadata": {},
   "outputs": [],
   "source": [
    "#Setup\n",
    "from scipy.optimize import minimize\n",
    "from scipy.stats import chisquare\n",
    "import pandas as pd\n",
    "import numpy as np\n",
    "data = pd.read_csv(\"winequality-red.csv\", header = 0 , sep = ';')\n",
    "train, test = np.split(data.sample(frac=1), [int(.8*len(data))])\n",
    "X_train = train.loc[:, 'fixed acidity': 'alcohol']\n",
    "y_train = train.loc[:, 'quality']\n",
    "X_test = test.loc[:,'fixed acidity': 'alcohol']\n",
    "y_test = test.loc[:, 'quality']"
   ]
  },
  {
   "cell_type": "markdown",
   "metadata": {},
   "source": [
    "**2- Regression equations and functions** <br><br>\n",
    "**Equations**\n",
    "\n",
    "The equation for linear regression model is\n",
    "$$f(X) = \\beta_0 + \\sum_{j=1}^{p} X_j\\beta_j $$ \n",
    "\n",
    "and the equation for finding the residual sum of squares is \n",
    "\n",
    "$$RSS(\\beta) = \\sum_{i=1}^{N} (y_i - f(x_i))^2$$ \n",
    "\n",
    "For the optimal value of $\\beta$ , the RSS value should be minimised. We will be minimising this using Scipy’s minimize function "
   ]
  },
  {
   "cell_type": "code",
   "execution_count": 21,
   "metadata": {},
   "outputs": [],
   "source": [
    "def rss_compute(B, X, y):\n",
    "    y_hat = np.matmul(X, B)\n",
    "    error = 0 \n",
    "    for i in range(len(y_hat)):\n",
    "        error = error + (y.iat[i]-y_hat[i])**2\n",
    "    return error\n",
    "\n",
    "\n"
   ]
  },
  {
   "cell_type": "markdown",
   "metadata": {},
   "source": [
    "**3- Optimising the Model**"
   ]
  },
  {
   "cell_type": "code",
   "execution_count": 172,
   "metadata": {},
   "outputs": [],
   "source": [
    "B0 = np.random.normal(0, 1, X_train.shape[1])\n",
    "result = minimize(fun=rss_compute, x0=B0, args= (X_train,y_train))\n"
   ]
  },
  {
   "cell_type": "markdown",
   "metadata": {},
   "source": [
    "The Regression Variable and their values is as below"
   ]
  },
  {
   "cell_type": "code",
   "execution_count": 173,
   "metadata": {},
   "outputs": [
    {
     "data": {
      "text/html": [
       "<div>\n",
       "<style scoped>\n",
       "    .dataframe tbody tr th:only-of-type {\n",
       "        vertical-align: middle;\n",
       "    }\n",
       "\n",
       "    .dataframe tbody tr th {\n",
       "        vertical-align: top;\n",
       "    }\n",
       "\n",
       "    .dataframe thead th {\n",
       "        text-align: right;\n",
       "    }\n",
       "</style>\n",
       "<table border=\"1\" class=\"dataframe\">\n",
       "  <thead>\n",
       "    <tr style=\"text-align: right;\">\n",
       "      <th></th>\n",
       "      <th>Attribute</th>\n",
       "      <th>Results</th>\n",
       "    </tr>\n",
       "  </thead>\n",
       "  <tbody>\n",
       "    <tr>\n",
       "      <th>0</th>\n",
       "      <td>fixed acidity</td>\n",
       "      <td>0.011281</td>\n",
       "    </tr>\n",
       "    <tr>\n",
       "      <th>1</th>\n",
       "      <td>volatile acidity</td>\n",
       "      <td>-1.042209</td>\n",
       "    </tr>\n",
       "    <tr>\n",
       "      <th>2</th>\n",
       "      <td>citric acid</td>\n",
       "      <td>-0.181255</td>\n",
       "    </tr>\n",
       "    <tr>\n",
       "      <th>3</th>\n",
       "      <td>residual sugar</td>\n",
       "      <td>0.015613</td>\n",
       "    </tr>\n",
       "    <tr>\n",
       "      <th>4</th>\n",
       "      <td>chlorides</td>\n",
       "      <td>-1.668063</td>\n",
       "    </tr>\n",
       "    <tr>\n",
       "      <th>5</th>\n",
       "      <td>free sulfur dioxide</td>\n",
       "      <td>0.004820</td>\n",
       "    </tr>\n",
       "    <tr>\n",
       "      <th>6</th>\n",
       "      <td>total sulfur dioxide</td>\n",
       "      <td>-0.003756</td>\n",
       "    </tr>\n",
       "    <tr>\n",
       "      <th>7</th>\n",
       "      <td>density</td>\n",
       "      <td>4.272971</td>\n",
       "    </tr>\n",
       "    <tr>\n",
       "      <th>8</th>\n",
       "      <td>pH</td>\n",
       "      <td>-0.448337</td>\n",
       "    </tr>\n",
       "    <tr>\n",
       "      <th>9</th>\n",
       "      <td>sulphates</td>\n",
       "      <td>0.805282</td>\n",
       "    </tr>\n",
       "    <tr>\n",
       "      <th>10</th>\n",
       "      <td>alcohol</td>\n",
       "      <td>0.292344</td>\n",
       "    </tr>\n",
       "  </tbody>\n",
       "</table>\n",
       "</div>"
      ],
      "text/plain": [
       "               Attribute   Results\n",
       "0          fixed acidity  0.011281\n",
       "1       volatile acidity -1.042209\n",
       "2            citric acid -0.181255\n",
       "3         residual sugar  0.015613\n",
       "4              chlorides -1.668063\n",
       "5    free sulfur dioxide  0.004820\n",
       "6   total sulfur dioxide -0.003756\n",
       "7                density  4.272971\n",
       "8                     pH -0.448337\n",
       "9              sulphates  0.805282\n",
       "10               alcohol  0.292344"
      ]
     },
     "execution_count": 173,
     "metadata": {},
     "output_type": "execute_result"
    }
   ],
   "source": [
    "X_train.head()\n",
    "\n",
    "Results = { \"Attribute\" : list(X_train.columns.values), \"Results\" : result.x}\n",
    "Results = pd.DataFrame(Results,columns=['Attribute','Results'])\n",
    "Results\n"
   ]
  },
  {
   "cell_type": "markdown",
   "metadata": {},
   "source": [
    "**Q1. What are the qualitative results from your model? Which features seem to be most\n",
    "important? Do you think that the magnitude of the features in X may affect the\n",
    "results (for example, the average total sulfur dioxide across all wines is 46.47, but\n",
    "the average chlorides is only 0.087)**\n",
    "\n",
    "Ans. From the model, we get the regression coefficients. By the looks of it, some of the features like 'density' , 'chlorides' and 'volatile acidity'  may look to be more important than the other . But the results of the above analysis give only the regression coefficients. The variables are not based on the same scale and hence these regression value are uncomparable. To Compare the regression values, we need to standardise the variables or use normalisation to bring them to the same scale. \n",
    "\n",
    "So yes, The magnitude of the features in X affect the results. Let take the case of total sulfur dioxide and chlorides. Lets compare the change in the value of the result in one percentage change of total sulfur dioxide to one percentage change of chlorides\n"
   ]
  },
  {
   "cell_type": "code",
   "execution_count": 64,
   "metadata": {},
   "outputs": [
    {
     "name": "stdout",
     "output_type": "stream",
     "text": [
      "Change in Quality for 1 percent change in total sulfur dioxide = -0.0013668728280932438\n",
      "Change in Quality for 1 percent change in chlorides = -0.001506363071627797\n"
     ]
    }
   ],
   "source": [
    "avg_sulfur = 46.47\n",
    "avg_chloride = 0.087\n",
    "\n",
    "per_sulfur_chng = 0.01 * avg_sulfur * Results.loc[Results['Attribute'] == 'total sulfur dioxide']['Results'].iat[0]\n",
    "per_chloride_chng = 0.01 * avg_chloride * Results.loc[Results['Attribute'] == 'chlorides']['Results'].iat[0]\n",
    "print(\"Change in Quality for 1 percent change in total sulfur dioxide = \" + str(per_sulfur_chng))\n",
    "print(\"Change in Quality for 1 percent change in chlorides = \" + str(per_chloride_chng))\n"
   ]
  },
  {
   "cell_type": "markdown",
   "metadata": {},
   "source": [
    "Though the value for chlorides was much higher than that of the total sulfur dioxide,  we can see, the percent changes for both the attributes are quite similar"
   ]
  },
  {
   "cell_type": "markdown",
   "metadata": {},
   "source": [
    "***Q2. How well does your model fit? You should be able to measure the goodness of fit,\n",
    "RSS, on both the training data and the test data, but only report the results on the\n",
    "test data. In Machine Learning we almost always only care about how well the\n",
    "model fits on data that has not been used to fit the model, because we need to use\n",
    "the model in the future, not the past. Therefore, we only report performance with\n",
    "holdout data, or test data. ***\n",
    "\n",
    "Ans. To test the goodness of fit, we will be using the Chi squared test. the test is given by\n",
    "\n",
    "\n",
    "\n",
    "\n",
    "$$\\chi^2 = \\sum_{i=1}^{N}\\dfrac{(O_i - E_i)^2}{E_i}$$\n",
    "\n",
    "where \n",
    "$O_i$ is the observed value and $E_i$ is the expected value\n",
    "\n",
    "Consider the ***Null Hypothesis*** \"There is no significant difference between the observed and expected values of quality of wine\""
   ]
  },
  {
   "cell_type": "code",
   "execution_count": 196,
   "metadata": {},
   "outputs": [],
   "source": [
    "obs_train = np.matmul(X_train, result.x)\n",
    "obs_test = np.matmul(X_test, result.x)\n",
    "\n",
    "chi_train = chisquare(obs_train,f_exp=y_train.values)\n",
    "chi_test_stat = chisquare(obs_test,f_exp=y_test.values)[0]\n",
    "chi_test_p = chisquare(obs_test,f_exp=y_test.values)[1]\n"
   ]
  },
  {
   "cell_type": "code",
   "execution_count": 197,
   "metadata": {
    "scrolled": false
   },
   "outputs": [
    {
     "name": "stdout",
     "output_type": "stream",
     "text": [
      "The Results of the chi square test on the test data is  : \n",
      "Chi Statistic = 23.712408718664268\n",
      "p value = 1.0\n"
     ]
    }
   ],
   "source": [
    "print(\"The Results of the chi square test on the test data is  : \")\n",
    "print(\"Chi Statistic = \" + str(chi_test_stat))\n",
    "print(\"p value = \" + str(chi_test_p))"
   ]
  },
  {
   "cell_type": "markdown",
   "metadata": {},
   "source": [
    "The P value for the test is 1. So we can say that the model is a good fit and we can say that the null hypothesis is correct"
   ]
  },
  {
   "cell_type": "markdown",
   "metadata": {},
   "source": [
    "***Q3. Does the end result or RSS change if you try different initial values of β? What\n",
    "happens if you change the magnitude of the initial β?***\n",
    "\n",
    "Ans. Let us use different initial values for β"
   ]
  },
  {
   "cell_type": "code",
   "execution_count": 141,
   "metadata": {},
   "outputs": [
    {
     "data": {
      "text/html": [
       "<div>\n",
       "<style scoped>\n",
       "    .dataframe tbody tr th:only-of-type {\n",
       "        vertical-align: middle;\n",
       "    }\n",
       "\n",
       "    .dataframe tbody tr th {\n",
       "        vertical-align: top;\n",
       "    }\n",
       "\n",
       "    .dataframe thead th {\n",
       "        text-align: right;\n",
       "    }\n",
       "</style>\n",
       "<table border=\"1\" class=\"dataframe\">\n",
       "  <thead>\n",
       "    <tr style=\"text-align: right;\">\n",
       "      <th></th>\n",
       "      <th>Attribute</th>\n",
       "      <th>Results</th>\n",
       "    </tr>\n",
       "  </thead>\n",
       "  <tbody>\n",
       "    <tr>\n",
       "      <th>0</th>\n",
       "      <td>fixed acidity</td>\n",
       "      <td>0.023623</td>\n",
       "    </tr>\n",
       "    <tr>\n",
       "      <th>1</th>\n",
       "      <td>volatile acidity</td>\n",
       "      <td>-1.180579</td>\n",
       "    </tr>\n",
       "    <tr>\n",
       "      <th>2</th>\n",
       "      <td>citric acid</td>\n",
       "      <td>-0.373438</td>\n",
       "    </tr>\n",
       "    <tr>\n",
       "      <th>3</th>\n",
       "      <td>residual sugar</td>\n",
       "      <td>0.015319</td>\n",
       "    </tr>\n",
       "    <tr>\n",
       "      <th>4</th>\n",
       "      <td>chlorides</td>\n",
       "      <td>-1.731452</td>\n",
       "    </tr>\n",
       "    <tr>\n",
       "      <th>5</th>\n",
       "      <td>free sulfur dioxide</td>\n",
       "      <td>0.004234</td>\n",
       "    </tr>\n",
       "    <tr>\n",
       "      <th>6</th>\n",
       "      <td>total sulfur dioxide</td>\n",
       "      <td>-0.002941</td>\n",
       "    </tr>\n",
       "    <tr>\n",
       "      <th>7</th>\n",
       "      <td>density</td>\n",
       "      <td>4.549933</td>\n",
       "    </tr>\n",
       "    <tr>\n",
       "      <th>8</th>\n",
       "      <td>pH</td>\n",
       "      <td>-0.579909</td>\n",
       "    </tr>\n",
       "    <tr>\n",
       "      <th>9</th>\n",
       "      <td>sulphates</td>\n",
       "      <td>0.809672</td>\n",
       "    </tr>\n",
       "    <tr>\n",
       "      <th>10</th>\n",
       "      <td>alcohol</td>\n",
       "      <td>0.307389</td>\n",
       "    </tr>\n",
       "  </tbody>\n",
       "</table>\n",
       "</div>"
      ],
      "text/plain": [
       "               Attribute   Results\n",
       "0          fixed acidity  0.023623\n",
       "1       volatile acidity -1.180579\n",
       "2            citric acid -0.373438\n",
       "3         residual sugar  0.015319\n",
       "4              chlorides -1.731452\n",
       "5    free sulfur dioxide  0.004234\n",
       "6   total sulfur dioxide -0.002941\n",
       "7                density  4.549933\n",
       "8                     pH -0.579909\n",
       "9              sulphates  0.809672\n",
       "10               alcohol  0.307389"
      ]
     },
     "execution_count": 141,
     "metadata": {},
     "output_type": "execute_result"
    }
   ],
   "source": [
    "B1 = np.random.normal(100, 500, X_train.shape[1])\n",
    "result_new = minimize(fun=rss_compute, x0=B1, args= (X_train,y_train))\n",
    "Results = { \"Attribute\" : list(X_train.columns.values), \"Results\" : result.x}\n",
    "Results = pd.DataFrame(Results,columns=['Attribute','Results'])\n",
    "Results\n"
   ]
  },
  {
   "cell_type": "markdown",
   "metadata": {},
   "source": [
    "As we can see, the change in the initial value of $\\beta$ magnitude did not change the results of the RSS function. But it was noticed that the time taken by the execution for the previous value of $\\beta$ = (0,1) is less that the current execution  $\\beta$ = (100, 500). \n",
    "\n",
    "Th result is same in both the cases.\n",
    "\n",
    "But the RSS does change when there is change in the initial value of B. Lets check the results of change in $\\beta$, and try to compare the RSS value for $\\beta_0$, $\\beta_1$ for the training set "
   ]
  },
  {
   "cell_type": "code",
   "execution_count": 145,
   "metadata": {},
   "outputs": [
    {
     "name": "stdout",
     "output_type": "stream",
     "text": [
      "RSS value when B is in the range of 0 and 1 = 3148488.9209281285\n"
     ]
    }
   ],
   "source": [
    "print(\"RSS value when B is in the range of 0 and 1 = \" + str(rss_compute(B0, X_train, y_train)))"
   ]
  },
  {
   "cell_type": "code",
   "execution_count": 146,
   "metadata": {},
   "outputs": [
    {
     "name": "stdout",
     "output_type": "stream",
     "text": [
      "RSS value when B is in the range of 100 and 500 = 3847022509454.332\n"
     ]
    }
   ],
   "source": [
    "print(\"RSS value when B is in the range of 100 and 500 = \" + str(rss_compute(B1, X_train, y_train)))"
   ]
  },
  {
   "cell_type": "markdown",
   "metadata": {},
   "source": [
    "***Q4. Does the choice of solver method change the end result or RSS?***\n",
    "\n",
    "The Choice of the solver method does not affect the RSS value but it may affect the end result. \n",
    "\n",
    "Let us check out the final result based on the solver method. We will be using the $\\beta_0$ for this analysis with 3 Solvers, Nelder-Mead, Powell and TNC\n",
    "\n"
   ]
  },
  {
   "cell_type": "code",
   "execution_count": 152,
   "metadata": {},
   "outputs": [
    {
     "data": {
      "text/plain": [
       "array([-0.0952816 ,  0.47666263,  2.2820462 , -0.044489  , -0.0057541 ,\n",
       "        0.00715081, -0.00588756,  1.51189172,  0.38619049,  0.70043927,\n",
       "        0.24918433])"
      ]
     },
     "execution_count": 152,
     "metadata": {},
     "output_type": "execute_result"
    }
   ],
   "source": [
    "result_2 = minimize(fun=rss_compute, x0=B0, args= (X_train,y_train),method='Nelder-Mead')\n",
    "result_2.x"
   ]
  },
  {
   "cell_type": "code",
   "execution_count": 153,
   "metadata": {},
   "outputs": [
    {
     "data": {
      "text/plain": [
       "array([ 0.08621255, -1.14076092, -0.0998666 ,  0.01586066, -0.89771127,\n",
       "        0.00270494, -0.00284484, -0.64799634,  0.92613803,  0.8355615 ,\n",
       "        0.26000877])"
      ]
     },
     "execution_count": 153,
     "metadata": {},
     "output_type": "execute_result"
    }
   ],
   "source": [
    "result_3 = minimize(fun=rss_compute, x0=B0, args= (X_train,y_train),method='Powell')\n",
    "result_3.x"
   ]
  },
  {
   "cell_type": "code",
   "execution_count": 155,
   "metadata": {},
   "outputs": [
    {
     "data": {
      "text/plain": [
       "array([ 0.09135315, -0.15715018, -0.84934245, -0.01874912, -1.47197995,\n",
       "        0.0095186 , -0.00511152,  0.09996068,  0.17095504,  1.01926744,\n",
       "        0.40173662])"
      ]
     },
     "execution_count": 155,
     "metadata": {},
     "output_type": "execute_result"
    }
   ],
   "source": [
    "result_4 = minimize(fun=rss_compute, x0=B0, args= (X_train,y_train),method='TNC')\n",
    "result_4.x"
   ]
  },
  {
   "cell_type": "markdown",
   "metadata": {},
   "source": [
    "As we can see, the different solver method give out different coefficients. So the solver methods affect the end results."
   ]
  },
  {
   "cell_type": "markdown",
   "metadata": {},
   "source": [
    "**4 - Regularisation**\n",
    "\n"
   ]
  },
  {
   "cell_type": "code",
   "execution_count": 231,
   "metadata": {},
   "outputs": [],
   "source": [
    "def regularised_rss_compute(B, X, y, C_lambda):\n",
    "    y_hat = np.matmul(X, B)\n",
    "    y_reg = y_hat + C_lambda *  np.sum(B**2)\n",
    "    error = 0 \n",
    "    for i in range(len(y_reg)):\n",
    "        error = error + (y.iat[i]-y_reg[i])**2\n",
    "    return error"
   ]
  },
  {
   "cell_type": "code",
   "execution_count": 230,
   "metadata": {},
   "outputs": [],
   "source": [
    "lambda_1 = 0.01\n"
   ]
  },
  {
   "cell_type": "code",
   "execution_count": 232,
   "metadata": {},
   "outputs": [
    {
     "data": {
      "text/plain": [
       "array([ 1.14671888e-02, -1.04204438e+00, -1.81221356e-01,  1.57036318e-02,\n",
       "       -1.66786666e+00,  4.81778448e-03, -3.75525809e-03,  4.05654978e+00,\n",
       "       -4.47477307e-01,  8.05549099e-01,  2.92143703e-01])"
      ]
     },
     "execution_count": 232,
     "metadata": {},
     "output_type": "execute_result"
    }
   ],
   "source": [
    "result_reg = minimize(fun=regularised_rss_compute, x0=B0, args= (X_train,y_train,lambda_1))\n",
    "result_reg.x"
   ]
  },
  {
   "cell_type": "code",
   "execution_count": 233,
   "metadata": {},
   "outputs": [
    {
     "data": {
      "text/html": [
       "<div>\n",
       "<style scoped>\n",
       "    .dataframe tbody tr th:only-of-type {\n",
       "        vertical-align: middle;\n",
       "    }\n",
       "\n",
       "    .dataframe tbody tr th {\n",
       "        vertical-align: top;\n",
       "    }\n",
       "\n",
       "    .dataframe thead th {\n",
       "        text-align: right;\n",
       "    }\n",
       "</style>\n",
       "<table border=\"1\" class=\"dataframe\">\n",
       "  <thead>\n",
       "    <tr style=\"text-align: right;\">\n",
       "      <th></th>\n",
       "      <th>Attribute</th>\n",
       "      <th>Results</th>\n",
       "    </tr>\n",
       "  </thead>\n",
       "  <tbody>\n",
       "    <tr>\n",
       "      <th>0</th>\n",
       "      <td>fixed acidity</td>\n",
       "      <td>0.011281</td>\n",
       "    </tr>\n",
       "    <tr>\n",
       "      <th>1</th>\n",
       "      <td>volatile acidity</td>\n",
       "      <td>-1.042209</td>\n",
       "    </tr>\n",
       "    <tr>\n",
       "      <th>2</th>\n",
       "      <td>citric acid</td>\n",
       "      <td>-0.181255</td>\n",
       "    </tr>\n",
       "    <tr>\n",
       "      <th>3</th>\n",
       "      <td>residual sugar</td>\n",
       "      <td>0.015613</td>\n",
       "    </tr>\n",
       "    <tr>\n",
       "      <th>4</th>\n",
       "      <td>chlorides</td>\n",
       "      <td>-1.668063</td>\n",
       "    </tr>\n",
       "    <tr>\n",
       "      <th>5</th>\n",
       "      <td>free sulfur dioxide</td>\n",
       "      <td>0.004820</td>\n",
       "    </tr>\n",
       "    <tr>\n",
       "      <th>6</th>\n",
       "      <td>total sulfur dioxide</td>\n",
       "      <td>-0.003756</td>\n",
       "    </tr>\n",
       "    <tr>\n",
       "      <th>7</th>\n",
       "      <td>density</td>\n",
       "      <td>4.272971</td>\n",
       "    </tr>\n",
       "    <tr>\n",
       "      <th>8</th>\n",
       "      <td>pH</td>\n",
       "      <td>-0.448337</td>\n",
       "    </tr>\n",
       "    <tr>\n",
       "      <th>9</th>\n",
       "      <td>sulphates</td>\n",
       "      <td>0.805282</td>\n",
       "    </tr>\n",
       "    <tr>\n",
       "      <th>10</th>\n",
       "      <td>alcohol</td>\n",
       "      <td>0.292344</td>\n",
       "    </tr>\n",
       "  </tbody>\n",
       "</table>\n",
       "</div>"
      ],
      "text/plain": [
       "               Attribute   Results\n",
       "0          fixed acidity  0.011281\n",
       "1       volatile acidity -1.042209\n",
       "2            citric acid -0.181255\n",
       "3         residual sugar  0.015613\n",
       "4              chlorides -1.668063\n",
       "5    free sulfur dioxide  0.004820\n",
       "6   total sulfur dioxide -0.003756\n",
       "7                density  4.272971\n",
       "8                     pH -0.448337\n",
       "9              sulphates  0.805282\n",
       "10               alcohol  0.292344"
      ]
     },
     "execution_count": 233,
     "metadata": {},
     "output_type": "execute_result"
    }
   ],
   "source": [
    "X_train.head()\n",
    "\n",
    "Results_reg = { \"Attribute\" : list(X_train.columns.values), \"Results\" : result_reg.x}\n",
    "Results_reg = pd.DataFrame(Results,columns=['Attribute','Results'])\n",
    "Results_reg"
   ]
  },
  {
   "cell_type": "markdown",
   "metadata": {},
   "source": [
    "Above is the Result for the regularised y and for lambda = 0.01\n",
    "Now lets validate this result with the test data. "
   ]
  },
  {
   "cell_type": "code",
   "execution_count": 234,
   "metadata": {},
   "outputs": [
    {
     "name": "stdout",
     "output_type": "stream",
     "text": [
      "The Results of the chi square test on the test data with regularisation is  : \n",
      "Chi Statistic = 23.728088316993123\n",
      "p value = 1.0\n"
     ]
    }
   ],
   "source": [
    "obs_reg_test = np.matmul(X_test, result_reg.x)\n",
    "chi_reg_test_stat = chisquare(obs_reg_test,f_exp=y_test.values)[0]\n",
    "chi_reg_test_p = chisquare(obs_reg_test,f_exp=y_test.values)[1]\n",
    "\n",
    "print(\"The Results of the chi square test on the test data with regularisation is  : \")\n",
    "print(\"Chi Statistic = \" + str(chi_reg_test_stat))\n",
    "print(\"p value = \" + str(chi_reg_test_p))"
   ]
  },
  {
   "cell_type": "markdown",
   "metadata": {},
   "source": [
    "**Q1. How does RSS on the training data change? How does RSS on the test data change? What happens if you try different values of lambda? Can you roughly tune lambda to get the best results on the test data? **\n"
   ]
  },
  {
   "cell_type": "code",
   "execution_count": 235,
   "metadata": {},
   "outputs": [
    {
     "name": "stdout",
     "output_type": "stream",
     "text": [
      "RSS without regularisation for training data is 3148488.9209281285\n",
      "RSS with regularisation for training data is 3154740.538144643\n",
      "RSS without regularisation for testing data is 960707.0916872026\n",
      "RSS with regularisation for testing data is 962429.5493680306\n"
     ]
    }
   ],
   "source": [
    "print(\"RSS without regularisation for training data is \" + str(rss_compute(B0, X_train, y_train)))\n",
    "print(\"RSS with regularisation for training data is \" + str(regularised_rss_compute(B0, X_train, y_train, C_lambda)))\n",
    "\n",
    "print(\"RSS without regularisation for testing data is \" + str(rss_compute(B0, X_test, y_test)))\n",
    "print(\"RSS with regularisation for testing data is \" + str(regularised_rss_compute(B0, X_test, y_test, C_lambda)))"
   ]
  },
  {
   "cell_type": "markdown",
   "metadata": {},
   "source": [
    "We can see that after regularisation, the RSS value has changed. "
   ]
  },
  {
   "cell_type": "markdown",
   "metadata": {},
   "source": [
    "**Lasso Regularisation**"
   ]
  },
  {
   "cell_type": "code",
   "execution_count": 236,
   "metadata": {},
   "outputs": [],
   "source": [
    "def l1_regularisation_rss_compute(B, X, y, C_lambda):\n",
    "    y_hat = np.matmul(X, B)\n",
    "    y_reg = y_hat + C_lambda *  np.sum(abs(B))\n",
    "    error = 0 \n",
    "    for i in range(len(y_reg)):\n",
    "        error = error + (y.iat[i]-y_reg[i])**2\n",
    "    return error"
   ]
  },
  {
   "cell_type": "code",
   "execution_count": 237,
   "metadata": {},
   "outputs": [
    {
     "data": {
      "text/plain": [
       "array([ 1.13602643e-02, -1.04214639e+00, -1.81251290e-01,  1.56501246e-02,\n",
       "       -1.66793773e+00,  4.81886591e-03, -3.75545087e-03,  4.18480434e+00,\n",
       "       -4.47948886e-01,  8.05392909e-01,  2.92263589e-01])"
      ]
     },
     "execution_count": 237,
     "metadata": {},
     "output_type": "execute_result"
    }
   ],
   "source": [
    "result_l1_reg = minimize(fun=l1_regularisation_rss_compute, x0=B0, args= (X_train,y_train,lambda_1))\n",
    "result_l1_reg.x"
   ]
  },
  {
   "cell_type": "code",
   "execution_count": 238,
   "metadata": {},
   "outputs": [
    {
     "data": {
      "text/html": [
       "<div>\n",
       "<style scoped>\n",
       "    .dataframe tbody tr th:only-of-type {\n",
       "        vertical-align: middle;\n",
       "    }\n",
       "\n",
       "    .dataframe tbody tr th {\n",
       "        vertical-align: top;\n",
       "    }\n",
       "\n",
       "    .dataframe thead th {\n",
       "        text-align: right;\n",
       "    }\n",
       "</style>\n",
       "<table border=\"1\" class=\"dataframe\">\n",
       "  <thead>\n",
       "    <tr style=\"text-align: right;\">\n",
       "      <th></th>\n",
       "      <th>Attribute</th>\n",
       "      <th>Results</th>\n",
       "    </tr>\n",
       "  </thead>\n",
       "  <tbody>\n",
       "    <tr>\n",
       "      <th>0</th>\n",
       "      <td>fixed acidity</td>\n",
       "      <td>0.011281</td>\n",
       "    </tr>\n",
       "    <tr>\n",
       "      <th>1</th>\n",
       "      <td>volatile acidity</td>\n",
       "      <td>-1.042209</td>\n",
       "    </tr>\n",
       "    <tr>\n",
       "      <th>2</th>\n",
       "      <td>citric acid</td>\n",
       "      <td>-0.181255</td>\n",
       "    </tr>\n",
       "    <tr>\n",
       "      <th>3</th>\n",
       "      <td>residual sugar</td>\n",
       "      <td>0.015613</td>\n",
       "    </tr>\n",
       "    <tr>\n",
       "      <th>4</th>\n",
       "      <td>chlorides</td>\n",
       "      <td>-1.668063</td>\n",
       "    </tr>\n",
       "    <tr>\n",
       "      <th>5</th>\n",
       "      <td>free sulfur dioxide</td>\n",
       "      <td>0.004820</td>\n",
       "    </tr>\n",
       "    <tr>\n",
       "      <th>6</th>\n",
       "      <td>total sulfur dioxide</td>\n",
       "      <td>-0.003756</td>\n",
       "    </tr>\n",
       "    <tr>\n",
       "      <th>7</th>\n",
       "      <td>density</td>\n",
       "      <td>4.272971</td>\n",
       "    </tr>\n",
       "    <tr>\n",
       "      <th>8</th>\n",
       "      <td>pH</td>\n",
       "      <td>-0.448337</td>\n",
       "    </tr>\n",
       "    <tr>\n",
       "      <th>9</th>\n",
       "      <td>sulphates</td>\n",
       "      <td>0.805282</td>\n",
       "    </tr>\n",
       "    <tr>\n",
       "      <th>10</th>\n",
       "      <td>alcohol</td>\n",
       "      <td>0.292344</td>\n",
       "    </tr>\n",
       "  </tbody>\n",
       "</table>\n",
       "</div>"
      ],
      "text/plain": [
       "               Attribute   Results\n",
       "0          fixed acidity  0.011281\n",
       "1       volatile acidity -1.042209\n",
       "2            citric acid -0.181255\n",
       "3         residual sugar  0.015613\n",
       "4              chlorides -1.668063\n",
       "5    free sulfur dioxide  0.004820\n",
       "6   total sulfur dioxide -0.003756\n",
       "7                density  4.272971\n",
       "8                     pH -0.448337\n",
       "9              sulphates  0.805282\n",
       "10               alcohol  0.292344"
      ]
     },
     "execution_count": 238,
     "metadata": {},
     "output_type": "execute_result"
    }
   ],
   "source": [
    "Results_l1_reg = { \"Attribute\" : list(X_train.columns.values), \"Results\" : result_l1_reg.x}\n",
    "Results_l1_reg = pd.DataFrame(Results,columns=['Attribute','Results'])\n",
    "Results_l1_reg"
   ]
  },
  {
   "cell_type": "markdown",
   "metadata": {},
   "source": [
    "The end results of the L1 regularisation seem to be similar to that of the L2 regularisation. Running the Chi test on the data, gives pvalue as 1 as well. But the chi Statistic value has decrease with respect to thte L2 regularisation \n"
   ]
  },
  {
   "cell_type": "code",
   "execution_count": 239,
   "metadata": {},
   "outputs": [
    {
     "name": "stdout",
     "output_type": "stream",
     "text": [
      "The Results of the chi square test on the test data with regularisation is  : \n",
      "Chi Statistic = 23.07928486762725\n",
      "p value = 1.0\n"
     ]
    }
   ],
   "source": [
    "obs_l1reg_test = np.matmul(X_test, result_l1_reg.x)\n",
    "chi_l1reg_test_stat = chisquare(obs_l1reg_test,f_exp=y_test.values)[0]\n",
    "chi_l1reg_test_p = chisquare(obs_l1reg_test,f_exp=y_test.values)[1]\n",
    "\n",
    "print(\"The Results of the chi square test on the test data with regularisation is  : \")\n",
    "print(\"Chi Statistic = \" + str(chi_l1reg_test_stat))\n",
    "print(\"p value = \" + str(chi_l1reg_test_p))"
   ]
  },
  {
   "cell_type": "code",
   "execution_count": 240,
   "metadata": {},
   "outputs": [
    {
     "name": "stdout",
     "output_type": "stream",
     "text": [
      "Change in Quality for 1 percent change in total sulfur dioxide = -0.0017452609192854633\n",
      "Change in Quality for 1 percent change in chlorides = -0.0014512151279972394\n"
     ]
    }
   ],
   "source": [
    "avg_sulfur = 46.47\n",
    "avg_chloride = 0.087\n",
    "\n",
    "per_sulfur_chng = 0.01 * avg_sulfur * Results_l1_reg.loc[Results_l1_reg['Attribute'] == 'total sulfur dioxide']['Results'].iat[0]\n",
    "per_chloride_chng = 0.01 * avg_chloride * Results_l1_reg.loc[Results_l1_reg['Attribute'] == 'chlorides']['Results'].iat[0]\n",
    "print(\"Change in Quality for 1 percent change in total sulfur dioxide = \" + str(per_sulfur_chng))\n",
    "print(\"Change in Quality for 1 percent change in chlorides = \" + str(per_chloride_chng))\n"
   ]
  },
  {
   "cell_type": "markdown",
   "metadata": {},
   "source": [
    "Looking at the results for the chloride and sulfur change, i still feel that the magnitude of the features in X affect the end value. To get a perfect analysis on whether a feature is really important or not, they have to be bought to the same scale using normalisation techniques. "
   ]
  }
 ],
 "metadata": {
  "kernelspec": {
   "display_name": "'coms007'",
   "language": "python",
   "name": "coms007"
  },
  "language_info": {
   "codemirror_mode": {
    "name": "ipython",
    "version": 3
   },
   "file_extension": ".py",
   "mimetype": "text/x-python",
   "name": "python",
   "nbconvert_exporter": "python",
   "pygments_lexer": "ipython3",
   "version": "3.6.5"
  }
 },
 "nbformat": 4,
 "nbformat_minor": 2
}
